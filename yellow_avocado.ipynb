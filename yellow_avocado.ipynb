{
 "cells": [
  {
   "cell_type": "markdown",
   "metadata": {},
   "source": [
    "# Notebook for Kaggle Competition: Open Problems Single Cell Perturbations \n",
    "# Team Yellow Avocado"
   ]
  },
  {
   "cell_type": "code",
   "execution_count": null,
   "metadata": {},
   "outputs": [],
   "source": [
    "Note: The code for data exploration & visualization, internal cross-validation, feature selection, model selection, and unsubmitted methods, and approach that doesn't lead to higher score are not included to avoid unnecessary lengthy code. "
   ]
  },
  {
   "cell_type": "markdown",
   "metadata": {},
   "source": [
    "## Import libraries"
   ]
  },
  {
   "cell_type": "code",
   "execution_count": 1,
   "metadata": {},
   "outputs": [],
   "source": [
    "import pandas as pd\n",
    "import matplotlib.pyplot as plt\n",
    "import math\n",
    "from pathlib import Path\n",
    "import statistics\n",
    "import zipfile\n",
    "from itertools import product\n",
    "from statistics import mean\n",
    "import collections"
   ]
  },
  {
   "cell_type": "code",
   "execution_count": 2,
   "metadata": {},
   "outputs": [],
   "source": [
    "from sklearn.metrics import mean_squared_error\n",
    "from sklearn.ensemble import ExtraTreesRegressor\n",
    "from sklearn.linear_model import ElasticNet\n",
    "from sklearn.ensemble import VotingRegressor\n",
    "from sklearn.neural_network import MLPRegressor"
   ]
  },
  {
   "cell_type": "markdown",
   "metadata": {},
   "source": [
    "## Download data"
   ]
  },
  {
   "cell_type": "raw",
   "metadata": {},
   "source": [
    "Make sure you have credential '{\"username\":\"\",\"key\":\"\"}' store at cat ~/.kaggle/kaggle.json"
   ]
  },
  {
   "cell_type": "code",
   "execution_count": 13,
   "metadata": {
    "tags": []
   },
   "outputs": [],
   "source": [
    "path = Path(\"open-problems-single-cell-perturbations\")"
   ]
  },
  {
   "cell_type": "code",
   "execution_count": 14,
   "metadata": {},
   "outputs": [
    {
     "name": "stdout",
     "output_type": "stream",
     "text": [
      "Downloading open-problems-single-cell-perturbations.zip to /Users/chai/github/Kaggle_OpenProblems_SingleCellPerturbations_YellowAvocado\n",
      "100%|█████████████████████████████████████▉| 3.83G/3.83G [02:09<00:00, 31.9MB/s]\n",
      "100%|██████████████████████████████████████| 3.83G/3.83G [02:09<00:00, 31.8MB/s]\n"
     ]
    }
   ],
   "source": [
    "!kaggle competitions download {path}"
   ]
  },
  {
   "cell_type": "code",
   "execution_count": 15,
   "metadata": {
    "scrolled": true,
    "tags": []
   },
   "outputs": [],
   "source": [
    "zipfile.ZipFile(f\"{path}.zip\").extractall(path)"
   ]
  },
  {
   "cell_type": "code",
   "execution_count": 24,
   "metadata": {},
   "outputs": [],
   "source": [
    "!mv {path}/* ."
   ]
  },
  {
   "cell_type": "code",
   "execution_count": 25,
   "metadata": {},
   "outputs": [
    {
     "name": "stdout",
     "output_type": "stream",
     "text": [
      "LICENSE\n",
      "README.md\n",
      "adata_excluded_ids.csv\n",
      "adata_obs_meta.csv\n",
      "adata_train.parquet\n",
      "avocado.ipynb\n",
      "avocado_clean_notebook.ipynb\n",
      "de_train.parquet\n",
      "id_map.csv\n",
      "multiome_obs_meta.csv\n",
      "multiome_train.parquet\n",
      "multiome_var_meta.csv\n",
      "\u001b[1m\u001b[34mopen-problems-single-cell-perturbations\u001b[m\u001b[m/\n",
      "open-problems-single-cell-perturbations.zip\n",
      "sample_submission.csv\n"
     ]
    }
   ],
   "source": [
    "ls"
   ]
  },
  {
   "cell_type": "markdown",
   "metadata": {},
   "source": [
    "## Load main competition files"
   ]
  },
  {
   "cell_type": "raw",
   "metadata": {},
   "source": [
    "de_train.parquet - Aggregated differential expression data in dense array format.\n",
    "adata_train.parquet - Unaggregated count and normalized data in COO sparse-array format. A supplement to de_train\n",
    "adata_obs_meta.csv - Observation metadata for adata_train\n",
    "multiome_train.parquet - This is optional additional 10x Multiome data for each sample at baseline.\n",
    "multiome_obs_meta.csv\n",
    "multiome_var_meta.csv\n",
    "id_map.csv - Identifies the cell_type / sm_name pair to be predicted for the given id.\n",
    "sample_submission.csv"
   ]
  },
  {
   "cell_type": "code",
   "execution_count": 3,
   "metadata": {},
   "outputs": [],
   "source": [
    "de_train = pd.read_parquet(\"de_train.parquet\")"
   ]
  },
  {
   "cell_type": "code",
   "execution_count": 4,
   "metadata": {},
   "outputs": [],
   "source": [
    "id_map = pd.read_csv(\"id_map.csv\")"
   ]
  },
  {
   "cell_type": "markdown",
   "metadata": {},
   "source": [
    "## Create global variables"
   ]
  },
  {
   "cell_type": "code",
   "execution_count": 5,
   "metadata": {},
   "outputs": [],
   "source": [
    "# decide on default expression level when\n",
    "default_expression = 0"
   ]
  },
  {
   "cell_type": "code",
   "execution_count": 6,
   "metadata": {},
   "outputs": [],
   "source": [
    "id_map_sm_name_label = id_map.sm_name.unique()"
   ]
  },
  {
   "cell_type": "code",
   "execution_count": 7,
   "metadata": {},
   "outputs": [
    {
     "name": "stdout",
     "output_type": "stream",
     "text": [
      "['NK cells', 'T cells CD4+', 'T cells CD8+', 'T regulatory cells', 'B cells', 'Myeloid cells']\n"
     ]
    }
   ],
   "source": [
    "cell_type_label = list(de_train[\"cell_type\"].unique())\n",
    "print(cell_type_label)"
   ]
  },
  {
   "cell_type": "code",
   "execution_count": 8,
   "metadata": {},
   "outputs": [
    {
     "name": "stdout",
     "output_type": "stream",
     "text": [
      "146\n"
     ]
    }
   ],
   "source": [
    "sm_name_label = list(de_train[\"sm_name\"].unique())\n",
    "print(len(sm_name_label))"
   ]
  },
  {
   "cell_type": "code",
   "execution_count": 9,
   "metadata": {},
   "outputs": [],
   "source": [
    "sm_name_B_and_myeloid = list(\n",
    "    de_train.loc[\n",
    "        (de_train.cell_type == \"B cells\") | (de_train.cell_type == \"Myeloid cells\")\n",
    "    ][\"sm_name\"].unique()\n",
    ")"
   ]
  },
  {
   "cell_type": "code",
   "execution_count": 10,
   "metadata": {},
   "outputs": [
    {
     "name": "stdout",
     "output_type": "stream",
     "text": [
      "129\n"
     ]
    }
   ],
   "source": [
    "sm_name_to_be_test = set(sm_name_label) - set(sm_name_B_and_myeloid)\n",
    "print(len(sm_name_to_be_test))"
   ]
  },
  {
   "cell_type": "code",
   "execution_count": 11,
   "metadata": {},
   "outputs": [
    {
     "name": "stdout",
     "output_type": "stream",
     "text": [
      "18211\n"
     ]
    }
   ],
   "source": [
    "all_gene = list(de_train.columns)[5:]\n",
    "print(len(all_gene))"
   ]
  },
  {
   "cell_type": "code",
   "execution_count": 12,
   "metadata": {},
   "outputs": [
    {
     "data": {
      "text/plain": [
       "15952836"
      ]
     },
     "execution_count": 12,
     "metadata": {},
     "output_type": "execute_result"
    }
   ],
   "source": [
    "correction_factor = len(all_gene) * len(sm_name_label) * len(cell_type_label)\n",
    "correction_factor"
   ]
  },
  {
   "cell_type": "code",
   "execution_count": 13,
   "metadata": {},
   "outputs": [
    {
     "data": {
      "text/plain": [
       "-8.503867896202365"
      ]
     },
     "execution_count": 13,
     "metadata": {},
     "output_type": "execute_result"
    }
   ],
   "source": [
    "math.log10(0.05 / correction_factor)"
   ]
  },
  {
   "cell_type": "markdown",
   "metadata": {},
   "source": [
    "## Explore missing info"
   ]
  },
  {
   "cell_type": "code",
   "execution_count": 14,
   "metadata": {},
   "outputs": [
    {
     "name": "stdout",
     "output_type": "stream",
     "text": [
      "NK cells\n",
      "set()\n",
      "0\n",
      "T cells CD4+\n",
      "set()\n",
      "0\n",
      "T cells CD8+\n",
      "{'Resminostat', 'Alvocidib', 'Oprozomib (ONX 0912)', 'CGP 60474'}\n",
      "4\n",
      "T regulatory cells\n",
      "set()\n",
      "0\n",
      "B cells\n",
      "{'GO-6976', 'RG7112', 'Nilotinib', 'CEP-37440', 'Cabozantinib', 'Trametinib', 'Tosedostat', 'Disulfiram', 'Clotrimazole', 'Protriptyline', 'AVL-292', 'Nefazodone', 'Perhexiline', 'BAY 87-2243', 'Bosutinib', 'Canertinib', 'TR-14035', 'RVX-208', 'Sgc-cbp30', 'Ixabepilone', 'K-02288', 'PD-0325901', 'BAY 61-3606', 'TPCA-1', 'Mometasone Furoate', 'HMN-214', 'BMS-777607', 'BMS-536924', 'SCH-58261', 'AT13387', 'CGM-097', 'Topotecan', 'Amiodarone', 'IN1451', 'STK219801', 'AZ628', 'Dovitinib', 'Atorvastatin', 'TL_HRAS26', 'Vandetanib', 'Ketoconazole', 'CGP 60474', 'BX 912', 'AZD4547', 'Raloxifene', 'PRT-062607', 'ABT-199 (GDC-0199)', 'TGX 221', 'I-BET151', 'Vorinostat', 'Imatinib', 'Buspirone', 'Lapatinib', '5-(9-Isopropyl-8-methyl-2-morpholino-9H-purin-6-yl)pyrimidin-2-amine', 'BI-D1870', 'LY2090314', 'Sunitinib', 'Desloratadine', 'GLPG0634', 'Vardenafil', 'Decitabine', 'Dasatinib', 'AT 7867', 'Riociguat', 'Midostaurin', 'UNII-BXU45ZH6LI', 'AMD-070 (hydrochloride)', 'Tivantinib', 'Flutamide', 'SB525334', 'Oxybenzone', 'Proscillaridin A;Proscillaridin-A', 'IKK Inhibitor VII', 'GW843682X', 'Tivozanib', 'AZD3514', 'Pomalidomide', 'Vanoxerine', 'Ricolinostat', 'Tipifarnib', 'PF-04691502', 'Tamatinib', 'CEP-18770 (Delanzomib)', 'Ceritinib', 'Colforsin', 'ABT737', 'Saracatinib', 'Azacitidine', 'RG7090', 'Mubritinib (TAK 165)', 'Ganetespib (STA-9090)', 'Resminostat', 'TIE2 Kinase Inhibitor', 'HYDROXYUREA', 'Methotrexate', 'RN-486', 'Pitavastatin Calcium', 'Ruxolitinib', 'Scriptaid', 'Selumetinib', 'Clomipramine', 'Navitoclax', 'Defactinib', 'PF-03814735', 'Clemastine', 'CC-401', 'GSK256066', 'Quizartinib', 'Alogliptin', 'Tacalcitol', 'SLx-2119', 'MK-5108', 'Masitinib', 'MGCD-265', 'AZD-8330', 'FK 866', 'GSK-1070916', 'Doxorubicin', 'Isoniazid', 'IMD-0354', 'YK 4-279', 'Chlorpheniramine', 'BMS-265246', 'Colchicine', 'Prednisolone', 'Phenylbutazone', 'OSI-930', 'BMS-387032', 'Lamivudine'}\n",
      "129\n",
      "Myeloid cells\n",
      "{'GO-6976', 'RG7112', 'Nilotinib', 'CEP-37440', 'Cabozantinib', 'Trametinib', 'Tosedostat', 'Disulfiram', 'Clotrimazole', 'Protriptyline', 'AVL-292', 'Nefazodone', 'Perhexiline', 'BAY 87-2243', 'Bosutinib', 'Canertinib', 'TR-14035', 'RVX-208', 'Sgc-cbp30', 'Ixabepilone', 'K-02288', 'PD-0325901', 'BAY 61-3606', 'TPCA-1', 'Mometasone Furoate', 'HMN-214', 'BMS-777607', 'BMS-536924', 'SCH-58261', 'AT13387', 'CGM-097', 'Topotecan', 'Amiodarone', 'IN1451', 'STK219801', 'AZ628', 'Dovitinib', 'Atorvastatin', 'TL_HRAS26', 'Vandetanib', 'Ketoconazole', 'CGP 60474', 'BX 912', 'AZD4547', 'Raloxifene', 'PRT-062607', 'ABT-199 (GDC-0199)', 'TGX 221', 'I-BET151', 'Vorinostat', 'Imatinib', 'Buspirone', 'Lapatinib', '5-(9-Isopropyl-8-methyl-2-morpholino-9H-purin-6-yl)pyrimidin-2-amine', 'BI-D1870', 'LY2090314', 'Sunitinib', 'Desloratadine', 'GLPG0634', 'Vardenafil', 'Decitabine', 'Dasatinib', 'AT 7867', 'Riociguat', 'Midostaurin', 'UNII-BXU45ZH6LI', 'AMD-070 (hydrochloride)', 'Tivantinib', 'Flutamide', 'SB525334', 'Oxybenzone', 'Proscillaridin A;Proscillaridin-A', 'IKK Inhibitor VII', 'GW843682X', 'Tivozanib', 'AZD3514', 'Pomalidomide', 'Vanoxerine', 'Ricolinostat', 'Tipifarnib', 'PF-04691502', 'Tamatinib', 'CEP-18770 (Delanzomib)', 'Ceritinib', 'Colforsin', 'ABT737', 'Saracatinib', 'Azacitidine', 'RG7090', 'Mubritinib (TAK 165)', 'Ganetespib (STA-9090)', 'Resminostat', 'TIE2 Kinase Inhibitor', 'HYDROXYUREA', 'Methotrexate', 'RN-486', 'Pitavastatin Calcium', 'Ruxolitinib', 'Scriptaid', 'Selumetinib', 'Clomipramine', 'Navitoclax', 'Defactinib', 'PF-03814735', 'Clemastine', 'CC-401', 'GSK256066', 'Quizartinib', 'Alogliptin', 'Tacalcitol', 'SLx-2119', 'MK-5108', 'Masitinib', 'MGCD-265', 'AZD-8330', 'FK 866', 'GSK-1070916', 'Doxorubicin', 'Isoniazid', 'IMD-0354', 'YK 4-279', 'Chlorpheniramine', 'BMS-265246', 'Colchicine', 'Prednisolone', 'Phenylbutazone', 'OSI-930', 'BMS-387032', 'Lamivudine'}\n",
      "129\n"
     ]
    }
   ],
   "source": [
    "# check missing differential expression info for each cell line\n",
    "missing_tmp = []\n",
    "for tmp_cell_type in cell_type_label:\n",
    "    print(tmp_cell_type)\n",
    "    missing = set(sm_name_label) - set(\n",
    "        de_train.loc[(de_train.cell_type == tmp_cell_type)].sm_name.unique()\n",
    "    )\n",
    "    print(missing)\n",
    "    print(len(missing))\n",
    "    missing_tmp.append(missing)"
   ]
  },
  {
   "cell_type": "code",
   "execution_count": 15,
   "metadata": {},
   "outputs": [
    {
     "data": {
      "text/plain": [
       "True"
      ]
     },
     "execution_count": 15,
     "metadata": {},
     "output_type": "execute_result"
    }
   ],
   "source": [
    "missing_tmp[-1] == missing_tmp[-2]"
   ]
  },
  {
   "cell_type": "markdown",
   "metadata": {},
   "source": [
    "## Data transformation"
   ]
  },
  {
   "cell_type": "raw",
   "metadata": {},
   "source": [
    "Transform data into the format that we will use for training and testing which predict differential expression of B and Myeloid cell from differential expression of other cell types"
   ]
  },
  {
   "cell_type": "code",
   "execution_count": 16,
   "metadata": {},
   "outputs": [],
   "source": [
    "target_df_columns = [\n",
    "    \"target_cell\",\n",
    "    \"sm_name\",\n",
    "    \"gene\",\n",
    "    \"training\",\n",
    "    \"NK cells exp\",\n",
    "    \"T cells CD4+ exp\",\n",
    "    \"T cells CD8+ exp\",\n",
    "    \"T regulatory cells exp\",\n",
    "    \"target_averge_expression\",\n",
    "]"
   ]
  },
  {
   "cell_type": "code",
   "execution_count": 17,
   "metadata": {},
   "outputs": [],
   "source": [
    "all_tergetcell_sm_gene_combination = product(\n",
    "    [\"B cells\", \"Myeloid cells\"], sm_name_label, all_gene\n",
    ")"
   ]
  },
  {
   "cell_type": "code",
   "execution_count": 18,
   "metadata": {},
   "outputs": [],
   "source": [
    "all_tergetcell_sm_gene_combination = list(all_tergetcell_sm_gene_combination)"
   ]
  },
  {
   "cell_type": "code",
   "execution_count": 19,
   "metadata": {},
   "outputs": [
    {
     "data": {
      "text/plain": [
       "5317612"
      ]
     },
     "execution_count": 19,
     "metadata": {},
     "output_type": "execute_result"
    }
   ],
   "source": [
    "18211 * 146 * 2"
   ]
  },
  {
   "cell_type": "code",
   "execution_count": 20,
   "metadata": {},
   "outputs": [],
   "source": [
    "transform_de_train = pd.DataFrame(\n",
    "    all_tergetcell_sm_gene_combination, columns=target_df_columns[:3]\n",
    ")"
   ]
  },
  {
   "cell_type": "code",
   "execution_count": 21,
   "metadata": {
    "scrolled": true
   },
   "outputs": [
    {
     "data": {
      "text/html": [
       "<div>\n",
       "<style scoped>\n",
       "    .dataframe tbody tr th:only-of-type {\n",
       "        vertical-align: middle;\n",
       "    }\n",
       "\n",
       "    .dataframe tbody tr th {\n",
       "        vertical-align: top;\n",
       "    }\n",
       "\n",
       "    .dataframe thead th {\n",
       "        text-align: right;\n",
       "    }\n",
       "</style>\n",
       "<table border=\"1\" class=\"dataframe\">\n",
       "  <thead>\n",
       "    <tr style=\"text-align: right;\">\n",
       "      <th></th>\n",
       "      <th>target_cell</th>\n",
       "      <th>sm_name</th>\n",
       "      <th>gene</th>\n",
       "    </tr>\n",
       "  </thead>\n",
       "  <tbody>\n",
       "    <tr>\n",
       "      <th>0</th>\n",
       "      <td>B cells</td>\n",
       "      <td>Clotrimazole</td>\n",
       "      <td>A1BG</td>\n",
       "    </tr>\n",
       "    <tr>\n",
       "      <th>1</th>\n",
       "      <td>B cells</td>\n",
       "      <td>Clotrimazole</td>\n",
       "      <td>A1BG-AS1</td>\n",
       "    </tr>\n",
       "  </tbody>\n",
       "</table>\n",
       "</div>"
      ],
      "text/plain": [
       "  target_cell       sm_name      gene\n",
       "0     B cells  Clotrimazole      A1BG\n",
       "1     B cells  Clotrimazole  A1BG-AS1"
      ]
     },
     "execution_count": 21,
     "metadata": {},
     "output_type": "execute_result"
    }
   ],
   "source": [
    "transform_de_train.head(2)"
   ]
  },
  {
   "cell_type": "code",
   "execution_count": 22,
   "metadata": {},
   "outputs": [],
   "source": [
    "in_training = [\n",
    "    True if i in sm_name_B_and_myeloid else False\n",
    "    for i in list(transform_de_train[\"sm_name\"])\n",
    "]"
   ]
  },
  {
   "cell_type": "code",
   "execution_count": 23,
   "metadata": {},
   "outputs": [],
   "source": [
    "transform_de_train[\"training\"] = in_training"
   ]
  },
  {
   "cell_type": "code",
   "execution_count": 24,
   "metadata": {},
   "outputs": [
    {
     "data": {
      "text/html": [
       "<div>\n",
       "<style scoped>\n",
       "    .dataframe tbody tr th:only-of-type {\n",
       "        vertical-align: middle;\n",
       "    }\n",
       "\n",
       "    .dataframe tbody tr th {\n",
       "        vertical-align: top;\n",
       "    }\n",
       "\n",
       "    .dataframe thead th {\n",
       "        text-align: right;\n",
       "    }\n",
       "</style>\n",
       "<table border=\"1\" class=\"dataframe\">\n",
       "  <thead>\n",
       "    <tr style=\"text-align: right;\">\n",
       "      <th></th>\n",
       "      <th>target_cell</th>\n",
       "      <th>sm_name</th>\n",
       "      <th>gene</th>\n",
       "      <th>training</th>\n",
       "    </tr>\n",
       "  </thead>\n",
       "  <tbody>\n",
       "    <tr>\n",
       "      <th>count</th>\n",
       "      <td>5317612</td>\n",
       "      <td>5317612</td>\n",
       "      <td>5317612</td>\n",
       "      <td>5317612</td>\n",
       "    </tr>\n",
       "    <tr>\n",
       "      <th>unique</th>\n",
       "      <td>2</td>\n",
       "      <td>146</td>\n",
       "      <td>18211</td>\n",
       "      <td>2</td>\n",
       "    </tr>\n",
       "    <tr>\n",
       "      <th>top</th>\n",
       "      <td>B cells</td>\n",
       "      <td>Clotrimazole</td>\n",
       "      <td>A1BG</td>\n",
       "      <td>False</td>\n",
       "    </tr>\n",
       "    <tr>\n",
       "      <th>freq</th>\n",
       "      <td>2658806</td>\n",
       "      <td>36422</td>\n",
       "      <td>292</td>\n",
       "      <td>4698438</td>\n",
       "    </tr>\n",
       "  </tbody>\n",
       "</table>\n",
       "</div>"
      ],
      "text/plain": [
       "       target_cell       sm_name     gene training\n",
       "count      5317612       5317612  5317612  5317612\n",
       "unique           2           146    18211        2\n",
       "top        B cells  Clotrimazole     A1BG    False\n",
       "freq       2658806         36422      292  4698438"
      ]
     },
     "execution_count": 24,
     "metadata": {},
     "output_type": "execute_result"
    }
   ],
   "source": [
    "transform_de_train.describe()"
   ]
  },
  {
   "cell_type": "code",
   "execution_count": 25,
   "metadata": {},
   "outputs": [
    {
     "name": "stdout",
     "output_type": "stream",
     "text": [
      "NK cells\n",
      "146\n",
      "T cells CD4+\n",
      "146\n",
      "T cells CD8+\n",
      "142\n",
      "T regulatory cells\n",
      "146\n",
      "B cells\n",
      "17\n",
      "Myeloid cells\n",
      "17\n"
     ]
    }
   ],
   "source": [
    "for i in cell_type_label:\n",
    "    print(i)\n",
    "    print(len(de_train.loc[de_train.cell_type == i][\"sm_name\"].unique()))"
   ]
  },
  {
   "cell_type": "code",
   "execution_count": 26,
   "metadata": {},
   "outputs": [],
   "source": [
    "NKcells_exp = []\n",
    "TcellsCD4_exp = []\n",
    "Tregulatorycells_exp = []\n",
    "for tmp_sm_name in sm_name_label:\n",
    "    NKcells_exp.extend(\n",
    "        de_train.loc[\n",
    "            (de_train[\"cell_type\"] == \"NK cells\")\n",
    "            & (de_train[\"sm_name\"] == tmp_sm_name),\n",
    "            \"A1BG\":\"ZZEF1\",\n",
    "        ]\n",
    "        .values.flatten()\n",
    "        .tolist()\n",
    "    )\n",
    "    TcellsCD4_exp.extend(\n",
    "        de_train.loc[\n",
    "            (de_train[\"cell_type\"] == \"T cells CD4+\")\n",
    "            & (de_train[\"sm_name\"] == tmp_sm_name),\n",
    "            \"A1BG\":\"ZZEF1\",\n",
    "        ]\n",
    "        .values.flatten()\n",
    "        .tolist()\n",
    "    )\n",
    "    Tregulatorycells_exp.extend(\n",
    "        de_train.loc[\n",
    "            (de_train[\"cell_type\"] == \"T regulatory cells\")\n",
    "            & (de_train[\"sm_name\"] == tmp_sm_name),\n",
    "            \"A1BG\":\"ZZEF1\",\n",
    "        ]\n",
    "        .values.flatten()\n",
    "        .tolist()\n",
    "    )"
   ]
  },
  {
   "cell_type": "code",
   "execution_count": 27,
   "metadata": {},
   "outputs": [
    {
     "data": {
      "text/plain": [
       "['Resminostat', 'Alvocidib', 'Oprozomib (ONX 0912)', 'CGP 60474']"
      ]
     },
     "execution_count": 27,
     "metadata": {},
     "output_type": "execute_result"
    }
   ],
   "source": [
    "T8_sm_name = list(\n",
    "    de_train.loc[de_train.cell_type == \"T cells CD8+\"][\"sm_name\"].unique()\n",
    ")\n",
    "T8_sm_name_missing = list(set(sm_name_label) - set(T8_sm_name))\n",
    "T8_sm_name_missing"
   ]
  },
  {
   "cell_type": "code",
   "execution_count": 28,
   "metadata": {},
   "outputs": [],
   "source": [
    "TcellsCD8_exp = []\n",
    "for tmp_sm_name in sm_name_label:\n",
    "    if tmp_sm_name in T8_sm_name_missing:\n",
    "        TcellsCD8_exp.extend([default_expression] * len(all_gene))\n",
    "    else:\n",
    "        TcellsCD8_exp.extend(\n",
    "            de_train.loc[\n",
    "                (de_train[\"cell_type\"] == \"T cells CD8+\")\n",
    "                & (de_train[\"sm_name\"] == tmp_sm_name),\n",
    "                \"A1BG\":\"ZZEF1\",\n",
    "            ]\n",
    "            .values.flatten()\n",
    "            .tolist()\n",
    "        )"
   ]
  },
  {
   "cell_type": "code",
   "execution_count": 29,
   "metadata": {},
   "outputs": [],
   "source": [
    "NKcells_exp = NKcells_exp * 2\n",
    "TcellsCD4_exp = TcellsCD4_exp * 2\n",
    "Tregulatorycells_exp = Tregulatorycells_exp * 2\n",
    "TcellsCD8_exp = TcellsCD8_exp * 2"
   ]
  },
  {
   "cell_type": "code",
   "execution_count": 30,
   "metadata": {},
   "outputs": [],
   "source": [
    "transform_de_train[\"NK cells exp\"] = NKcells_exp\n",
    "transform_de_train[\"T cells CD4+ exp\"] = TcellsCD4_exp\n",
    "transform_de_train[\"T cells CD8+ exp\"] = TcellsCD8_exp\n",
    "transform_de_train[\"T regulatory cells exp\"] = Tregulatorycells_exp"
   ]
  },
  {
   "cell_type": "code",
   "execution_count": 31,
   "metadata": {},
   "outputs": [
    {
     "data": {
      "text/plain": [
       "(5317612, 8)"
      ]
     },
     "execution_count": 31,
     "metadata": {},
     "output_type": "execute_result"
    }
   ],
   "source": [
    "transform_de_train.shape"
   ]
  },
  {
   "cell_type": "code",
   "execution_count": 32,
   "metadata": {
    "scrolled": true
   },
   "outputs": [
    {
     "data": {
      "text/html": [
       "<div>\n",
       "<style scoped>\n",
       "    .dataframe tbody tr th:only-of-type {\n",
       "        vertical-align: middle;\n",
       "    }\n",
       "\n",
       "    .dataframe tbody tr th {\n",
       "        vertical-align: top;\n",
       "    }\n",
       "\n",
       "    .dataframe thead th {\n",
       "        text-align: right;\n",
       "    }\n",
       "</style>\n",
       "<table border=\"1\" class=\"dataframe\">\n",
       "  <thead>\n",
       "    <tr style=\"text-align: right;\">\n",
       "      <th></th>\n",
       "      <th>target_cell</th>\n",
       "      <th>sm_name</th>\n",
       "      <th>gene</th>\n",
       "      <th>training</th>\n",
       "      <th>NK cells exp</th>\n",
       "      <th>T cells CD4+ exp</th>\n",
       "      <th>T cells CD8+ exp</th>\n",
       "      <th>T regulatory cells exp</th>\n",
       "    </tr>\n",
       "  </thead>\n",
       "  <tbody>\n",
       "    <tr>\n",
       "      <th>0</th>\n",
       "      <td>B cells</td>\n",
       "      <td>Clotrimazole</td>\n",
       "      <td>A1BG</td>\n",
       "      <td>False</td>\n",
       "      <td>0.104720</td>\n",
       "      <td>0.915953</td>\n",
       "      <td>-0.387721</td>\n",
       "      <td>0.232893</td>\n",
       "    </tr>\n",
       "    <tr>\n",
       "      <th>1</th>\n",
       "      <td>B cells</td>\n",
       "      <td>Clotrimazole</td>\n",
       "      <td>A1BG-AS1</td>\n",
       "      <td>False</td>\n",
       "      <td>-0.077524</td>\n",
       "      <td>-0.884380</td>\n",
       "      <td>-0.305378</td>\n",
       "      <td>0.129029</td>\n",
       "    </tr>\n",
       "    <tr>\n",
       "      <th>2</th>\n",
       "      <td>B cells</td>\n",
       "      <td>Clotrimazole</td>\n",
       "      <td>A2M</td>\n",
       "      <td>False</td>\n",
       "      <td>-1.625596</td>\n",
       "      <td>0.371834</td>\n",
       "      <td>0.567777</td>\n",
       "      <td>0.336897</td>\n",
       "    </tr>\n",
       "    <tr>\n",
       "      <th>3</th>\n",
       "      <td>B cells</td>\n",
       "      <td>Clotrimazole</td>\n",
       "      <td>A2M-AS1</td>\n",
       "      <td>False</td>\n",
       "      <td>-0.144545</td>\n",
       "      <td>-0.081677</td>\n",
       "      <td>0.303895</td>\n",
       "      <td>0.486946</td>\n",
       "    </tr>\n",
       "    <tr>\n",
       "      <th>4</th>\n",
       "      <td>B cells</td>\n",
       "      <td>Clotrimazole</td>\n",
       "      <td>A2MP1</td>\n",
       "      <td>False</td>\n",
       "      <td>0.143555</td>\n",
       "      <td>-0.498266</td>\n",
       "      <td>-0.022653</td>\n",
       "      <td>0.767661</td>\n",
       "    </tr>\n",
       "    <tr>\n",
       "      <th>...</th>\n",
       "      <td>...</td>\n",
       "      <td>...</td>\n",
       "      <td>...</td>\n",
       "      <td>...</td>\n",
       "      <td>...</td>\n",
       "      <td>...</td>\n",
       "      <td>...</td>\n",
       "      <td>...</td>\n",
       "    </tr>\n",
       "    <tr>\n",
       "      <th>5317607</th>\n",
       "      <td>Myeloid cells</td>\n",
       "      <td>Riociguat</td>\n",
       "      <td>ZXDB</td>\n",
       "      <td>False</td>\n",
       "      <td>1.028394</td>\n",
       "      <td>-0.005004</td>\n",
       "      <td>0.024849</td>\n",
       "      <td>-0.120252</td>\n",
       "    </tr>\n",
       "    <tr>\n",
       "      <th>5317608</th>\n",
       "      <td>Myeloid cells</td>\n",
       "      <td>Riociguat</td>\n",
       "      <td>ZXDC</td>\n",
       "      <td>False</td>\n",
       "      <td>0.034144</td>\n",
       "      <td>0.552810</td>\n",
       "      <td>0.012862</td>\n",
       "      <td>-0.064537</td>\n",
       "    </tr>\n",
       "    <tr>\n",
       "      <th>5317609</th>\n",
       "      <td>Myeloid cells</td>\n",
       "      <td>Riociguat</td>\n",
       "      <td>ZYG11B</td>\n",
       "      <td>False</td>\n",
       "      <td>-0.231642</td>\n",
       "      <td>-0.209077</td>\n",
       "      <td>-0.029684</td>\n",
       "      <td>-0.603280</td>\n",
       "    </tr>\n",
       "    <tr>\n",
       "      <th>5317610</th>\n",
       "      <td>Myeloid cells</td>\n",
       "      <td>Riociguat</td>\n",
       "      <td>ZYX</td>\n",
       "      <td>False</td>\n",
       "      <td>1.023994</td>\n",
       "      <td>0.389751</td>\n",
       "      <td>0.005506</td>\n",
       "      <td>-0.098041</td>\n",
       "    </tr>\n",
       "    <tr>\n",
       "      <th>5317611</th>\n",
       "      <td>Myeloid cells</td>\n",
       "      <td>Riociguat</td>\n",
       "      <td>ZZEF1</td>\n",
       "      <td>False</td>\n",
       "      <td>-0.064760</td>\n",
       "      <td>-0.337082</td>\n",
       "      <td>-1.733112</td>\n",
       "      <td>-0.750681</td>\n",
       "    </tr>\n",
       "  </tbody>\n",
       "</table>\n",
       "<p>5317612 rows × 8 columns</p>\n",
       "</div>"
      ],
      "text/plain": [
       "           target_cell       sm_name      gene  training  NK cells exp  \\\n",
       "0              B cells  Clotrimazole      A1BG     False      0.104720   \n",
       "1              B cells  Clotrimazole  A1BG-AS1     False     -0.077524   \n",
       "2              B cells  Clotrimazole       A2M     False     -1.625596   \n",
       "3              B cells  Clotrimazole   A2M-AS1     False     -0.144545   \n",
       "4              B cells  Clotrimazole     A2MP1     False      0.143555   \n",
       "...                ...           ...       ...       ...           ...   \n",
       "5317607  Myeloid cells     Riociguat      ZXDB     False      1.028394   \n",
       "5317608  Myeloid cells     Riociguat      ZXDC     False      0.034144   \n",
       "5317609  Myeloid cells     Riociguat    ZYG11B     False     -0.231642   \n",
       "5317610  Myeloid cells     Riociguat       ZYX     False      1.023994   \n",
       "5317611  Myeloid cells     Riociguat     ZZEF1     False     -0.064760   \n",
       "\n",
       "         T cells CD4+ exp  T cells CD8+ exp  T regulatory cells exp  \n",
       "0                0.915953         -0.387721                0.232893  \n",
       "1               -0.884380         -0.305378                0.129029  \n",
       "2                0.371834          0.567777                0.336897  \n",
       "3               -0.081677          0.303895                0.486946  \n",
       "4               -0.498266         -0.022653                0.767661  \n",
       "...                   ...               ...                     ...  \n",
       "5317607         -0.005004          0.024849               -0.120252  \n",
       "5317608          0.552810          0.012862               -0.064537  \n",
       "5317609         -0.209077         -0.029684               -0.603280  \n",
       "5317610          0.389751          0.005506               -0.098041  \n",
       "5317611         -0.337082         -1.733112               -0.750681  \n",
       "\n",
       "[5317612 rows x 8 columns]"
      ]
     },
     "execution_count": 32,
     "metadata": {},
     "output_type": "execute_result"
    }
   ],
   "source": [
    "transform_de_train"
   ]
  },
  {
   "cell_type": "code",
   "execution_count": 33,
   "metadata": {},
   "outputs": [],
   "source": [
    "bcell_target_averge_expression = []\n",
    "myeloid_target_averge_expression = []\n",
    "for tmp_gene in all_gene:\n",
    "    bcell_target_averge_expression.append(\n",
    "        mean(de_train.loc[de_train.cell_type == \"B cells\"][tmp_gene].tolist())\n",
    "    )\n",
    "    myeloid_target_averge_expression.append(\n",
    "        mean(de_train.loc[de_train.cell_type == \"Myeloid cells\"][tmp_gene].tolist())\n",
    "    )"
   ]
  },
  {
   "cell_type": "code",
   "execution_count": 34,
   "metadata": {},
   "outputs": [],
   "source": [
    "target_averge_expression = bcell_target_averge_expression * len(\n",
    "    sm_name_label\n",
    ") + myeloid_target_averge_expression * len(sm_name_label)"
   ]
  },
  {
   "cell_type": "code",
   "execution_count": 35,
   "metadata": {},
   "outputs": [
    {
     "data": {
      "text/plain": [
       "5317612"
      ]
     },
     "execution_count": 35,
     "metadata": {},
     "output_type": "execute_result"
    }
   ],
   "source": [
    "len(target_averge_expression)"
   ]
  },
  {
   "cell_type": "code",
   "execution_count": 36,
   "metadata": {},
   "outputs": [],
   "source": [
    "transform_de_train[\"target_averge_expression\"] = target_averge_expression"
   ]
  },
  {
   "cell_type": "markdown",
   "metadata": {},
   "source": [
    "### Remove missing value in B and Myeloid cell\n"
   ]
  },
  {
   "cell_type": "code",
   "execution_count": 37,
   "metadata": {},
   "outputs": [],
   "source": [
    "bcell_sm_name_training = list(\n",
    "    de_train.loc[de_train.cell_type == \"B cells\"][\"sm_name\"].unique()\n",
    ")\n",
    "bcell_sm_name_test = list(id_map.loc[id_map.cell_type == \"B cells\"][\"sm_name\"].unique())\n",
    "bcell_sm_name_missing = list(\n",
    "    set(sm_name_label) - set(bcell_sm_name_training) - set(bcell_sm_name_test)\n",
    ")"
   ]
  },
  {
   "cell_type": "code",
   "execution_count": 38,
   "metadata": {},
   "outputs": [
    {
     "data": {
      "text/plain": [
       "['CEP-18770 (Delanzomib)']"
      ]
     },
     "execution_count": 38,
     "metadata": {},
     "output_type": "execute_result"
    }
   ],
   "source": [
    "bcell_sm_name_missing"
   ]
  },
  {
   "cell_type": "code",
   "execution_count": 39,
   "metadata": {},
   "outputs": [],
   "source": [
    "myeloid_sm_name_training = list(\n",
    "    de_train.loc[de_train.cell_type == \"Myeloid cells\"][\"sm_name\"].unique()\n",
    ")\n",
    "myeloid_sm_name_test = list(\n",
    "    id_map.loc[id_map.cell_type == \"Myeloid cells\"][\"sm_name\"].unique()\n",
    ")\n",
    "myeloid_sm_name_missing = list(\n",
    "    set(sm_name_label) - set(myeloid_sm_name_training) - set(myeloid_sm_name_test)\n",
    ")"
   ]
  },
  {
   "cell_type": "code",
   "execution_count": 40,
   "metadata": {},
   "outputs": [
    {
     "data": {
      "text/plain": [
       "['BMS-387032', 'CGP 60474']"
      ]
     },
     "execution_count": 40,
     "metadata": {},
     "output_type": "execute_result"
    }
   ],
   "source": [
    "myeloid_sm_name_missing"
   ]
  },
  {
   "cell_type": "code",
   "execution_count": 41,
   "metadata": {},
   "outputs": [
    {
     "data": {
      "text/plain": [
       "(5317612, 9)"
      ]
     },
     "execution_count": 41,
     "metadata": {},
     "output_type": "execute_result"
    }
   ],
   "source": [
    "transform_de_train.shape"
   ]
  },
  {
   "cell_type": "code",
   "execution_count": 42,
   "metadata": {},
   "outputs": [],
   "source": [
    "transform_de_train.drop(\n",
    "    transform_de_train[\n",
    "        (transform_de_train[\"target_cell\"] == \"B cells\")\n",
    "        & (transform_de_train[\"sm_name\"] == \"CEP-18770 (Delanzomib)\")\n",
    "    ].index,\n",
    "    inplace=True,\n",
    ")\n",
    "transform_de_train.drop(\n",
    "    transform_de_train[\n",
    "        (transform_de_train[\"target_cell\"] == \"Myeloid cells\")\n",
    "        & (transform_de_train[\"sm_name\"] == \"CGP 60474\")\n",
    "    ].index,\n",
    "    inplace=True,\n",
    ")\n",
    "transform_de_train.drop(\n",
    "    transform_de_train[\n",
    "        (transform_de_train[\"target_cell\"] == \"Myeloid cells\")\n",
    "        & (transform_de_train[\"sm_name\"] == \"BMS-387032\")\n",
    "    ].index,\n",
    "    inplace=True,\n",
    ")"
   ]
  },
  {
   "cell_type": "code",
   "execution_count": 43,
   "metadata": {
    "scrolled": true
   },
   "outputs": [
    {
     "data": {
      "text/plain": [
       "3.0"
      ]
     },
     "execution_count": 43,
     "metadata": {},
     "output_type": "execute_result"
    }
   ],
   "source": [
    "(5317612 - 5262979) / len(all_gene)"
   ]
  },
  {
   "cell_type": "markdown",
   "metadata": {},
   "source": [
    "## Separate test vs trianing+val"
   ]
  },
  {
   "cell_type": "code",
   "execution_count": 45,
   "metadata": {},
   "outputs": [],
   "source": [
    "training_transform_de_train = transform_de_train.loc[\n",
    "    transform_de_train[\"sm_name\"].isin(sm_name_B_and_myeloid)\n",
    "].copy()\n",
    "test_transform_de_train = transform_de_train.loc[\n",
    "    transform_de_train[\"sm_name\"].isin(sm_name_to_be_test)\n",
    "].copy()"
   ]
  },
  {
   "cell_type": "code",
   "execution_count": 46,
   "metadata": {},
   "outputs": [
    {
     "name": "stdout",
     "output_type": "stream",
     "text": [
      "(5262979, 9)\n",
      "(619174, 9)\n",
      "(4643805, 9)\n"
     ]
    }
   ],
   "source": [
    "print(transform_de_train.shape)\n",
    "print(training_transform_de_train.shape)\n",
    "print(test_transform_de_train.shape)"
   ]
  },
  {
   "cell_type": "markdown",
   "metadata": {},
   "source": [
    "### Add response\n"
   ]
  },
  {
   "cell_type": "code",
   "execution_count": 47,
   "metadata": {},
   "outputs": [],
   "source": [
    "ordered_myeloid_sm_name_training = training_transform_de_train[\"sm_name\"].unique()\n",
    "bcell_exp = []\n",
    "myeloid_exp = []\n",
    "for tmp_sm_name in ordered_myeloid_sm_name_training:\n",
    "    bcell_exp.extend(\n",
    "        de_train.loc[\n",
    "            (de_train[\"cell_type\"] == \"B cells\") & (de_train[\"sm_name\"] == tmp_sm_name),\n",
    "            \"A1BG\":\"ZZEF1\",\n",
    "        ]\n",
    "        .values.flatten()\n",
    "        .tolist()\n",
    "    )\n",
    "    myeloid_exp.extend(\n",
    "        de_train.loc[\n",
    "            (de_train[\"cell_type\"] == \"Myeloid cells\")\n",
    "            & (de_train[\"sm_name\"] == tmp_sm_name),\n",
    "            \"A1BG\":\"ZZEF1\",\n",
    "        ]\n",
    "        .values.flatten()\n",
    "        .tolist()\n",
    "    )"
   ]
  },
  {
   "cell_type": "code",
   "execution_count": 48,
   "metadata": {},
   "outputs": [],
   "source": [
    "training_transform_de_train[\"response\"] = bcell_exp + myeloid_exp"
   ]
  },
  {
   "cell_type": "code",
   "execution_count": 49,
   "metadata": {
    "scrolled": true
   },
   "outputs": [
    {
     "data": {
      "text/html": [
       "<div>\n",
       "<style scoped>\n",
       "    .dataframe tbody tr th:only-of-type {\n",
       "        vertical-align: middle;\n",
       "    }\n",
       "\n",
       "    .dataframe tbody tr th {\n",
       "        vertical-align: top;\n",
       "    }\n",
       "\n",
       "    .dataframe thead th {\n",
       "        text-align: right;\n",
       "    }\n",
       "</style>\n",
       "<table border=\"1\" class=\"dataframe\">\n",
       "  <thead>\n",
       "    <tr style=\"text-align: right;\">\n",
       "      <th></th>\n",
       "      <th>target_cell</th>\n",
       "      <th>sm_name</th>\n",
       "      <th>gene</th>\n",
       "      <th>training</th>\n",
       "      <th>NK cells exp</th>\n",
       "      <th>T cells CD4+ exp</th>\n",
       "      <th>T cells CD8+ exp</th>\n",
       "      <th>T regulatory cells exp</th>\n",
       "      <th>target_averge_expression</th>\n",
       "      <th>response</th>\n",
       "    </tr>\n",
       "  </thead>\n",
       "  <tbody>\n",
       "    <tr>\n",
       "      <th>36422</th>\n",
       "      <td>B cells</td>\n",
       "      <td>Idelalisib</td>\n",
       "      <td>A1BG</td>\n",
       "      <td>True</td>\n",
       "      <td>0.861487</td>\n",
       "      <td>0.206471</td>\n",
       "      <td>0.046959</td>\n",
       "      <td>0.210456</td>\n",
       "      <td>1.380890</td>\n",
       "      <td>0.394173</td>\n",
       "    </tr>\n",
       "    <tr>\n",
       "      <th>36423</th>\n",
       "      <td>B cells</td>\n",
       "      <td>Idelalisib</td>\n",
       "      <td>A1BG-AS1</td>\n",
       "      <td>True</td>\n",
       "      <td>-0.112313</td>\n",
       "      <td>0.014638</td>\n",
       "      <td>-0.346839</td>\n",
       "      <td>0.842411</td>\n",
       "      <td>0.530585</td>\n",
       "      <td>-0.153824</td>\n",
       "    </tr>\n",
       "    <tr>\n",
       "      <th>36424</th>\n",
       "      <td>B cells</td>\n",
       "      <td>Idelalisib</td>\n",
       "      <td>A2M</td>\n",
       "      <td>True</td>\n",
       "      <td>-0.355217</td>\n",
       "      <td>-0.247518</td>\n",
       "      <td>0.023478</td>\n",
       "      <td>0.428241</td>\n",
       "      <td>1.340812</td>\n",
       "      <td>0.178232</td>\n",
       "    </tr>\n",
       "    <tr>\n",
       "      <th>36425</th>\n",
       "      <td>B cells</td>\n",
       "      <td>Idelalisib</td>\n",
       "      <td>A2M-AS1</td>\n",
       "      <td>True</td>\n",
       "      <td>0.719999</td>\n",
       "      <td>0.430198</td>\n",
       "      <td>0.485611</td>\n",
       "      <td>0.556238</td>\n",
       "      <td>1.594307</td>\n",
       "      <td>0.566241</td>\n",
       "    </tr>\n",
       "    <tr>\n",
       "      <th>36426</th>\n",
       "      <td>B cells</td>\n",
       "      <td>Idelalisib</td>\n",
       "      <td>A2MP1</td>\n",
       "      <td>True</td>\n",
       "      <td>0.655865</td>\n",
       "      <td>0.103020</td>\n",
       "      <td>0.005066</td>\n",
       "      <td>0.792801</td>\n",
       "      <td>4.927551</td>\n",
       "      <td>0.391377</td>\n",
       "    </tr>\n",
       "    <tr>\n",
       "      <th>...</th>\n",
       "      <td>...</td>\n",
       "      <td>...</td>\n",
       "      <td>...</td>\n",
       "      <td>...</td>\n",
       "      <td>...</td>\n",
       "      <td>...</td>\n",
       "      <td>...</td>\n",
       "      <td>...</td>\n",
       "      <td>...</td>\n",
       "      <td>...</td>\n",
       "    </tr>\n",
       "    <tr>\n",
       "      <th>5080864</th>\n",
       "      <td>Myeloid cells</td>\n",
       "      <td>CHIR-99021</td>\n",
       "      <td>ZXDB</td>\n",
       "      <td>True</td>\n",
       "      <td>0.015837</td>\n",
       "      <td>0.000120</td>\n",
       "      <td>0.037701</td>\n",
       "      <td>0.814064</td>\n",
       "      <td>0.612681</td>\n",
       "      <td>-0.160210</td>\n",
       "    </tr>\n",
       "    <tr>\n",
       "      <th>5080865</th>\n",
       "      <td>Myeloid cells</td>\n",
       "      <td>CHIR-99021</td>\n",
       "      <td>ZXDC</td>\n",
       "      <td>True</td>\n",
       "      <td>-0.055027</td>\n",
       "      <td>-1.117706</td>\n",
       "      <td>-0.257844</td>\n",
       "      <td>0.536660</td>\n",
       "      <td>-0.583563</td>\n",
       "      <td>-0.886414</td>\n",
       "    </tr>\n",
       "    <tr>\n",
       "      <th>5080866</th>\n",
       "      <td>Myeloid cells</td>\n",
       "      <td>CHIR-99021</td>\n",
       "      <td>ZYG11B</td>\n",
       "      <td>True</td>\n",
       "      <td>-0.329874</td>\n",
       "      <td>-0.130162</td>\n",
       "      <td>-1.374965</td>\n",
       "      <td>-0.108290</td>\n",
       "      <td>-0.427938</td>\n",
       "      <td>-2.955785</td>\n",
       "    </tr>\n",
       "    <tr>\n",
       "      <th>5080867</th>\n",
       "      <td>Myeloid cells</td>\n",
       "      <td>CHIR-99021</td>\n",
       "      <td>ZYX</td>\n",
       "      <td>True</td>\n",
       "      <td>0.327199</td>\n",
       "      <td>0.001642</td>\n",
       "      <td>-1.202369</td>\n",
       "      <td>-0.506495</td>\n",
       "      <td>-0.292768</td>\n",
       "      <td>-0.866944</td>\n",
       "    </tr>\n",
       "    <tr>\n",
       "      <th>5080868</th>\n",
       "      <td>Myeloid cells</td>\n",
       "      <td>CHIR-99021</td>\n",
       "      <td>ZZEF1</td>\n",
       "      <td>True</td>\n",
       "      <td>-0.830306</td>\n",
       "      <td>-0.665771</td>\n",
       "      <td>-0.676311</td>\n",
       "      <td>-0.124936</td>\n",
       "      <td>-0.067723</td>\n",
       "      <td>-0.053017</td>\n",
       "    </tr>\n",
       "  </tbody>\n",
       "</table>\n",
       "<p>619174 rows × 10 columns</p>\n",
       "</div>"
      ],
      "text/plain": [
       "           target_cell     sm_name      gene  training  NK cells exp  \\\n",
       "36422          B cells  Idelalisib      A1BG      True      0.861487   \n",
       "36423          B cells  Idelalisib  A1BG-AS1      True     -0.112313   \n",
       "36424          B cells  Idelalisib       A2M      True     -0.355217   \n",
       "36425          B cells  Idelalisib   A2M-AS1      True      0.719999   \n",
       "36426          B cells  Idelalisib     A2MP1      True      0.655865   \n",
       "...                ...         ...       ...       ...           ...   \n",
       "5080864  Myeloid cells  CHIR-99021      ZXDB      True      0.015837   \n",
       "5080865  Myeloid cells  CHIR-99021      ZXDC      True     -0.055027   \n",
       "5080866  Myeloid cells  CHIR-99021    ZYG11B      True     -0.329874   \n",
       "5080867  Myeloid cells  CHIR-99021       ZYX      True      0.327199   \n",
       "5080868  Myeloid cells  CHIR-99021     ZZEF1      True     -0.830306   \n",
       "\n",
       "         T cells CD4+ exp  T cells CD8+ exp  T regulatory cells exp  \\\n",
       "36422            0.206471          0.046959                0.210456   \n",
       "36423            0.014638         -0.346839                0.842411   \n",
       "36424           -0.247518          0.023478                0.428241   \n",
       "36425            0.430198          0.485611                0.556238   \n",
       "36426            0.103020          0.005066                0.792801   \n",
       "...                   ...               ...                     ...   \n",
       "5080864          0.000120          0.037701                0.814064   \n",
       "5080865         -1.117706         -0.257844                0.536660   \n",
       "5080866         -0.130162         -1.374965               -0.108290   \n",
       "5080867          0.001642         -1.202369               -0.506495   \n",
       "5080868         -0.665771         -0.676311               -0.124936   \n",
       "\n",
       "         target_averge_expression  response  \n",
       "36422                    1.380890  0.394173  \n",
       "36423                    0.530585 -0.153824  \n",
       "36424                    1.340812  0.178232  \n",
       "36425                    1.594307  0.566241  \n",
       "36426                    4.927551  0.391377  \n",
       "...                           ...       ...  \n",
       "5080864                  0.612681 -0.160210  \n",
       "5080865                 -0.583563 -0.886414  \n",
       "5080866                 -0.427938 -2.955785  \n",
       "5080867                 -0.292768 -0.866944  \n",
       "5080868                 -0.067723 -0.053017  \n",
       "\n",
       "[619174 rows x 10 columns]"
      ]
     },
     "execution_count": 49,
     "metadata": {},
     "output_type": "execute_result"
    }
   ],
   "source": [
    "training_transform_de_train"
   ]
  },
  {
   "cell_type": "markdown",
   "metadata": {},
   "source": [
    "## Run model on full data\n"
   ]
  },
  {
   "cell_type": "code",
   "execution_count": 50,
   "metadata": {},
   "outputs": [
    {
     "data": {
      "text/html": [
       "<div>\n",
       "<style scoped>\n",
       "    .dataframe tbody tr th:only-of-type {\n",
       "        vertical-align: middle;\n",
       "    }\n",
       "\n",
       "    .dataframe tbody tr th {\n",
       "        vertical-align: top;\n",
       "    }\n",
       "\n",
       "    .dataframe thead th {\n",
       "        text-align: right;\n",
       "    }\n",
       "</style>\n",
       "<table border=\"1\" class=\"dataframe\">\n",
       "  <thead>\n",
       "    <tr style=\"text-align: right;\">\n",
       "      <th></th>\n",
       "      <th>target_cell</th>\n",
       "      <th>sm_name</th>\n",
       "      <th>gene</th>\n",
       "      <th>training</th>\n",
       "      <th>NK cells exp</th>\n",
       "      <th>T cells CD4+ exp</th>\n",
       "      <th>T cells CD8+ exp</th>\n",
       "      <th>T regulatory cells exp</th>\n",
       "      <th>target_averge_expression</th>\n",
       "      <th>response</th>\n",
       "    </tr>\n",
       "  </thead>\n",
       "  <tbody>\n",
       "    <tr>\n",
       "      <th>36422</th>\n",
       "      <td>B cells</td>\n",
       "      <td>Idelalisib</td>\n",
       "      <td>A1BG</td>\n",
       "      <td>True</td>\n",
       "      <td>0.861487</td>\n",
       "      <td>0.206471</td>\n",
       "      <td>0.046959</td>\n",
       "      <td>0.210456</td>\n",
       "      <td>1.380890</td>\n",
       "      <td>0.394173</td>\n",
       "    </tr>\n",
       "    <tr>\n",
       "      <th>36423</th>\n",
       "      <td>B cells</td>\n",
       "      <td>Idelalisib</td>\n",
       "      <td>A1BG-AS1</td>\n",
       "      <td>True</td>\n",
       "      <td>-0.112313</td>\n",
       "      <td>0.014638</td>\n",
       "      <td>-0.346839</td>\n",
       "      <td>0.842411</td>\n",
       "      <td>0.530585</td>\n",
       "      <td>-0.153824</td>\n",
       "    </tr>\n",
       "    <tr>\n",
       "      <th>36424</th>\n",
       "      <td>B cells</td>\n",
       "      <td>Idelalisib</td>\n",
       "      <td>A2M</td>\n",
       "      <td>True</td>\n",
       "      <td>-0.355217</td>\n",
       "      <td>-0.247518</td>\n",
       "      <td>0.023478</td>\n",
       "      <td>0.428241</td>\n",
       "      <td>1.340812</td>\n",
       "      <td>0.178232</td>\n",
       "    </tr>\n",
       "    <tr>\n",
       "      <th>36425</th>\n",
       "      <td>B cells</td>\n",
       "      <td>Idelalisib</td>\n",
       "      <td>A2M-AS1</td>\n",
       "      <td>True</td>\n",
       "      <td>0.719999</td>\n",
       "      <td>0.430198</td>\n",
       "      <td>0.485611</td>\n",
       "      <td>0.556238</td>\n",
       "      <td>1.594307</td>\n",
       "      <td>0.566241</td>\n",
       "    </tr>\n",
       "    <tr>\n",
       "      <th>36426</th>\n",
       "      <td>B cells</td>\n",
       "      <td>Idelalisib</td>\n",
       "      <td>A2MP1</td>\n",
       "      <td>True</td>\n",
       "      <td>0.655865</td>\n",
       "      <td>0.103020</td>\n",
       "      <td>0.005066</td>\n",
       "      <td>0.792801</td>\n",
       "      <td>4.927551</td>\n",
       "      <td>0.391377</td>\n",
       "    </tr>\n",
       "    <tr>\n",
       "      <th>...</th>\n",
       "      <td>...</td>\n",
       "      <td>...</td>\n",
       "      <td>...</td>\n",
       "      <td>...</td>\n",
       "      <td>...</td>\n",
       "      <td>...</td>\n",
       "      <td>...</td>\n",
       "      <td>...</td>\n",
       "      <td>...</td>\n",
       "      <td>...</td>\n",
       "    </tr>\n",
       "    <tr>\n",
       "      <th>5080864</th>\n",
       "      <td>Myeloid cells</td>\n",
       "      <td>CHIR-99021</td>\n",
       "      <td>ZXDB</td>\n",
       "      <td>True</td>\n",
       "      <td>0.015837</td>\n",
       "      <td>0.000120</td>\n",
       "      <td>0.037701</td>\n",
       "      <td>0.814064</td>\n",
       "      <td>0.612681</td>\n",
       "      <td>-0.160210</td>\n",
       "    </tr>\n",
       "    <tr>\n",
       "      <th>5080865</th>\n",
       "      <td>Myeloid cells</td>\n",
       "      <td>CHIR-99021</td>\n",
       "      <td>ZXDC</td>\n",
       "      <td>True</td>\n",
       "      <td>-0.055027</td>\n",
       "      <td>-1.117706</td>\n",
       "      <td>-0.257844</td>\n",
       "      <td>0.536660</td>\n",
       "      <td>-0.583563</td>\n",
       "      <td>-0.886414</td>\n",
       "    </tr>\n",
       "    <tr>\n",
       "      <th>5080866</th>\n",
       "      <td>Myeloid cells</td>\n",
       "      <td>CHIR-99021</td>\n",
       "      <td>ZYG11B</td>\n",
       "      <td>True</td>\n",
       "      <td>-0.329874</td>\n",
       "      <td>-0.130162</td>\n",
       "      <td>-1.374965</td>\n",
       "      <td>-0.108290</td>\n",
       "      <td>-0.427938</td>\n",
       "      <td>-2.955785</td>\n",
       "    </tr>\n",
       "    <tr>\n",
       "      <th>5080867</th>\n",
       "      <td>Myeloid cells</td>\n",
       "      <td>CHIR-99021</td>\n",
       "      <td>ZYX</td>\n",
       "      <td>True</td>\n",
       "      <td>0.327199</td>\n",
       "      <td>0.001642</td>\n",
       "      <td>-1.202369</td>\n",
       "      <td>-0.506495</td>\n",
       "      <td>-0.292768</td>\n",
       "      <td>-0.866944</td>\n",
       "    </tr>\n",
       "    <tr>\n",
       "      <th>5080868</th>\n",
       "      <td>Myeloid cells</td>\n",
       "      <td>CHIR-99021</td>\n",
       "      <td>ZZEF1</td>\n",
       "      <td>True</td>\n",
       "      <td>-0.830306</td>\n",
       "      <td>-0.665771</td>\n",
       "      <td>-0.676311</td>\n",
       "      <td>-0.124936</td>\n",
       "      <td>-0.067723</td>\n",
       "      <td>-0.053017</td>\n",
       "    </tr>\n",
       "  </tbody>\n",
       "</table>\n",
       "<p>619174 rows × 10 columns</p>\n",
       "</div>"
      ],
      "text/plain": [
       "           target_cell     sm_name      gene  training  NK cells exp  \\\n",
       "36422          B cells  Idelalisib      A1BG      True      0.861487   \n",
       "36423          B cells  Idelalisib  A1BG-AS1      True     -0.112313   \n",
       "36424          B cells  Idelalisib       A2M      True     -0.355217   \n",
       "36425          B cells  Idelalisib   A2M-AS1      True      0.719999   \n",
       "36426          B cells  Idelalisib     A2MP1      True      0.655865   \n",
       "...                ...         ...       ...       ...           ...   \n",
       "5080864  Myeloid cells  CHIR-99021      ZXDB      True      0.015837   \n",
       "5080865  Myeloid cells  CHIR-99021      ZXDC      True     -0.055027   \n",
       "5080866  Myeloid cells  CHIR-99021    ZYG11B      True     -0.329874   \n",
       "5080867  Myeloid cells  CHIR-99021       ZYX      True      0.327199   \n",
       "5080868  Myeloid cells  CHIR-99021     ZZEF1      True     -0.830306   \n",
       "\n",
       "         T cells CD4+ exp  T cells CD8+ exp  T regulatory cells exp  \\\n",
       "36422            0.206471          0.046959                0.210456   \n",
       "36423            0.014638         -0.346839                0.842411   \n",
       "36424           -0.247518          0.023478                0.428241   \n",
       "36425            0.430198          0.485611                0.556238   \n",
       "36426            0.103020          0.005066                0.792801   \n",
       "...                   ...               ...                     ...   \n",
       "5080864          0.000120          0.037701                0.814064   \n",
       "5080865         -1.117706         -0.257844                0.536660   \n",
       "5080866         -0.130162         -1.374965               -0.108290   \n",
       "5080867          0.001642         -1.202369               -0.506495   \n",
       "5080868         -0.665771         -0.676311               -0.124936   \n",
       "\n",
       "         target_averge_expression  response  \n",
       "36422                    1.380890  0.394173  \n",
       "36423                    0.530585 -0.153824  \n",
       "36424                    1.340812  0.178232  \n",
       "36425                    1.594307  0.566241  \n",
       "36426                    4.927551  0.391377  \n",
       "...                           ...       ...  \n",
       "5080864                  0.612681 -0.160210  \n",
       "5080865                 -0.583563 -0.886414  \n",
       "5080866                 -0.427938 -2.955785  \n",
       "5080867                 -0.292768 -0.866944  \n",
       "5080868                 -0.067723 -0.053017  \n",
       "\n",
       "[619174 rows x 10 columns]"
      ]
     },
     "execution_count": 50,
     "metadata": {},
     "output_type": "execute_result"
    }
   ],
   "source": [
    "training_transform_de_train"
   ]
  },
  {
   "cell_type": "markdown",
   "metadata": {},
   "source": [
    "### Remove low cell count molecule  or with positive ocntrol"
   ]
  },
  {
   "cell_type": "code",
   "execution_count": 51,
   "metadata": {},
   "outputs": [],
   "source": [
    "training_transform_de_train_tmp = training_transform_de_train[\n",
    "    ~training_transform_de_train[\"sm_name\"].isin(\n",
    "        [\"Alvocidib\", \"MLN 2238\", \"Oprozomib (ONX 0912)\", \"Belinostat\", \"Dabrafenib\"]\n",
    "    )\n",
    "]"
   ]
  },
  {
   "cell_type": "code",
   "execution_count": 52,
   "metadata": {},
   "outputs": [
    {
     "data": {
      "text/plain": [
       "array(['Idelalisib', 'Crizotinib', 'Linagliptin', 'Palbociclib',\n",
       "       'LDN 193189', 'R428', 'Porcn Inhibitor III', 'Foretinib',\n",
       "       'Penfluridol', 'Dactolisib', 'O-Demethylated Adapalene',\n",
       "       'CHIR-99021'], dtype=object)"
      ]
     },
     "execution_count": 52,
     "metadata": {},
     "output_type": "execute_result"
    }
   ],
   "source": [
    "training_transform_de_train_tmp.sm_name.unique()"
   ]
  },
  {
   "cell_type": "code",
   "execution_count": 53,
   "metadata": {},
   "outputs": [],
   "source": [
    "training_transform_de_train = training_transform_de_train_tmp"
   ]
  },
  {
   "cell_type": "markdown",
   "metadata": {},
   "source": [
    "### Sep M and B"
   ]
  },
  {
   "cell_type": "code",
   "execution_count": 59,
   "metadata": {},
   "outputs": [],
   "source": [
    "training_transform_de_train_b = training_transform_de_train[\n",
    "    training_transform_de_train.target_cell == \"B cells\"\n",
    "]\n",
    "training_transform_de_train_m = training_transform_de_train[\n",
    "    training_transform_de_train.target_cell == \"Myeloid cells\"\n",
    "]\n",
    "training_transform_de_train_b.reset_index(inplace=True, drop=True)\n",
    "training_transform_de_train_m.reset_index(inplace=True, drop=True)"
   ]
  },
  {
   "cell_type": "code",
   "execution_count": 60,
   "metadata": {},
   "outputs": [],
   "source": [
    "test_transform_de_train_b = test_transform_de_train[\n",
    "    test_transform_de_train.target_cell == \"B cells\"\n",
    "]\n",
    "test_transform_de_train_m = test_transform_de_train[\n",
    "    test_transform_de_train.target_cell == \"Myeloid cells\"\n",
    "]\n",
    "test_transform_de_train_b.reset_index(inplace=True, drop=True)\n",
    "test_transform_de_train_m.reset_index(inplace=True, drop=True)"
   ]
  },
  {
   "cell_type": "code",
   "execution_count": 61,
   "metadata": {},
   "outputs": [
    {
     "name": "stdout",
     "output_type": "stream",
     "text": [
      "0.6550586676428908\n"
     ]
    }
   ],
   "source": [
    "full_training_b = training_transform_de_train_b.drop(\n",
    "    columns=[\"response\", \"target_cell\", \"sm_name\", \"gene\", \"training\"]\n",
    ").copy()\n",
    "full_testing_b = test_transform_de_train_b.drop(\n",
    "    columns=[\"target_cell\", \"sm_name\", \"gene\", \"training\"]\n",
    ").copy()\n",
    "full_response_b = training_transform_de_train_b[\"response\"]\n",
    "m1_3 = ElasticNet()\n",
    "m2_3 = ExtraTreesRegressor(n_estimators=10, max_depth=10, random_state=1)\n",
    "m6 = MLPRegressor(hidden_layer_sizes=(10,), random_state=1, max_iter=500)\n",
    "\n",
    "model = VotingRegressor([(\"lr\", m1_3), (\"rfr\", m2_3)])\n",
    "\n",
    "model.fit(full_training_b, full_response_b)\n",
    "y_full_training_pred_b = model.predict(full_training_b)\n",
    "y_full_testing_pred_b = model.predict(full_testing_b)\n",
    "print(mean_squared_error(full_response_b, y_full_training_pred_b))"
   ]
  },
  {
   "cell_type": "code",
   "execution_count": 62,
   "metadata": {},
   "outputs": [
    {
     "name": "stdout",
     "output_type": "stream",
     "text": [
      "2.430848804783438\n"
     ]
    }
   ],
   "source": [
    "full_training_m = training_transform_de_train_m.drop(\n",
    "    columns=[\"response\", \"target_cell\", \"sm_name\", \"gene\", \"training\"]\n",
    ").copy()\n",
    "full_testing_m = test_transform_de_train_m.drop(\n",
    "    columns=[\"target_cell\", \"sm_name\", \"gene\", \"training\"]\n",
    ").copy()\n",
    "full_response_m = training_transform_de_train_m[\"response\"]\n",
    "m1_3 = ElasticNet()\n",
    "m2_3 = ExtraTreesRegressor(n_estimators=10, max_depth=10, random_state=1)\n",
    "m6 = MLPRegressor(hidden_layer_sizes=(10,), random_state=1, max_iter=500)\n",
    "\n",
    "# model=VotingRegressor([('lr', m1_3), ('rfr', m2_3),('nn=10',m6)])\n",
    "model = VotingRegressor([(\"lr\", m1_3), (\"rfr\", m2_3)])\n",
    "\n",
    "# model=\n",
    "model.fit(full_training_m, full_response_m)\n",
    "y_full_training_pred_m = model.predict(full_training_m)\n",
    "y_full_testing_pred_m = model.predict(full_testing_m)\n",
    "print(mean_squared_error(full_response_m, y_full_training_pred_m))"
   ]
  },
  {
   "cell_type": "code",
   "execution_count": 63,
   "metadata": {},
   "outputs": [
    {
     "data": {
      "text/html": [
       "<div>\n",
       "<style scoped>\n",
       "    .dataframe tbody tr th:only-of-type {\n",
       "        vertical-align: middle;\n",
       "    }\n",
       "\n",
       "    .dataframe tbody tr th {\n",
       "        vertical-align: top;\n",
       "    }\n",
       "\n",
       "    .dataframe thead th {\n",
       "        text-align: right;\n",
       "    }\n",
       "</style>\n",
       "<table border=\"1\" class=\"dataframe\">\n",
       "  <thead>\n",
       "    <tr style=\"text-align: right;\">\n",
       "      <th></th>\n",
       "      <th>target_cell</th>\n",
       "      <th>sm_name</th>\n",
       "      <th>gene</th>\n",
       "      <th>training</th>\n",
       "      <th>NK cells exp</th>\n",
       "      <th>T cells CD4+ exp</th>\n",
       "      <th>T cells CD8+ exp</th>\n",
       "      <th>T regulatory cells exp</th>\n",
       "      <th>target_averge_expression</th>\n",
       "    </tr>\n",
       "  </thead>\n",
       "  <tbody>\n",
       "    <tr>\n",
       "      <th>0</th>\n",
       "      <td>B cells</td>\n",
       "      <td>Clotrimazole</td>\n",
       "      <td>A1BG</td>\n",
       "      <td>False</td>\n",
       "      <td>0.104720</td>\n",
       "      <td>0.915953</td>\n",
       "      <td>-0.387721</td>\n",
       "      <td>0.232893</td>\n",
       "      <td>1.380890</td>\n",
       "    </tr>\n",
       "    <tr>\n",
       "      <th>1</th>\n",
       "      <td>B cells</td>\n",
       "      <td>Clotrimazole</td>\n",
       "      <td>A1BG-AS1</td>\n",
       "      <td>False</td>\n",
       "      <td>-0.077524</td>\n",
       "      <td>-0.884380</td>\n",
       "      <td>-0.305378</td>\n",
       "      <td>0.129029</td>\n",
       "      <td>0.530585</td>\n",
       "    </tr>\n",
       "    <tr>\n",
       "      <th>2</th>\n",
       "      <td>B cells</td>\n",
       "      <td>Clotrimazole</td>\n",
       "      <td>A2M</td>\n",
       "      <td>False</td>\n",
       "      <td>-1.625596</td>\n",
       "      <td>0.371834</td>\n",
       "      <td>0.567777</td>\n",
       "      <td>0.336897</td>\n",
       "      <td>1.340812</td>\n",
       "    </tr>\n",
       "    <tr>\n",
       "      <th>3</th>\n",
       "      <td>B cells</td>\n",
       "      <td>Clotrimazole</td>\n",
       "      <td>A2M-AS1</td>\n",
       "      <td>False</td>\n",
       "      <td>-0.144545</td>\n",
       "      <td>-0.081677</td>\n",
       "      <td>0.303895</td>\n",
       "      <td>0.486946</td>\n",
       "      <td>1.594307</td>\n",
       "    </tr>\n",
       "    <tr>\n",
       "      <th>4</th>\n",
       "      <td>B cells</td>\n",
       "      <td>Clotrimazole</td>\n",
       "      <td>A2MP1</td>\n",
       "      <td>False</td>\n",
       "      <td>0.143555</td>\n",
       "      <td>-0.498266</td>\n",
       "      <td>-0.022653</td>\n",
       "      <td>0.767661</td>\n",
       "      <td>4.927551</td>\n",
       "    </tr>\n",
       "    <tr>\n",
       "      <th>...</th>\n",
       "      <td>...</td>\n",
       "      <td>...</td>\n",
       "      <td>...</td>\n",
       "      <td>...</td>\n",
       "      <td>...</td>\n",
       "      <td>...</td>\n",
       "      <td>...</td>\n",
       "      <td>...</td>\n",
       "      <td>...</td>\n",
       "    </tr>\n",
       "    <tr>\n",
       "      <th>2331003</th>\n",
       "      <td>B cells</td>\n",
       "      <td>Riociguat</td>\n",
       "      <td>ZXDB</td>\n",
       "      <td>False</td>\n",
       "      <td>1.028394</td>\n",
       "      <td>-0.005004</td>\n",
       "      <td>0.024849</td>\n",
       "      <td>-0.120252</td>\n",
       "      <td>0.581303</td>\n",
       "    </tr>\n",
       "    <tr>\n",
       "      <th>2331004</th>\n",
       "      <td>B cells</td>\n",
       "      <td>Riociguat</td>\n",
       "      <td>ZXDC</td>\n",
       "      <td>False</td>\n",
       "      <td>0.034144</td>\n",
       "      <td>0.552810</td>\n",
       "      <td>0.012862</td>\n",
       "      <td>-0.064537</td>\n",
       "      <td>0.637408</td>\n",
       "    </tr>\n",
       "    <tr>\n",
       "      <th>2331005</th>\n",
       "      <td>B cells</td>\n",
       "      <td>Riociguat</td>\n",
       "      <td>ZYG11B</td>\n",
       "      <td>False</td>\n",
       "      <td>-0.231642</td>\n",
       "      <td>-0.209077</td>\n",
       "      <td>-0.029684</td>\n",
       "      <td>-0.603280</td>\n",
       "      <td>0.517737</td>\n",
       "    </tr>\n",
       "    <tr>\n",
       "      <th>2331006</th>\n",
       "      <td>B cells</td>\n",
       "      <td>Riociguat</td>\n",
       "      <td>ZYX</td>\n",
       "      <td>False</td>\n",
       "      <td>1.023994</td>\n",
       "      <td>0.389751</td>\n",
       "      <td>0.005506</td>\n",
       "      <td>-0.098041</td>\n",
       "      <td>-0.207092</td>\n",
       "    </tr>\n",
       "    <tr>\n",
       "      <th>2331007</th>\n",
       "      <td>B cells</td>\n",
       "      <td>Riociguat</td>\n",
       "      <td>ZZEF1</td>\n",
       "      <td>False</td>\n",
       "      <td>-0.064760</td>\n",
       "      <td>-0.337082</td>\n",
       "      <td>-1.733112</td>\n",
       "      <td>-0.750681</td>\n",
       "      <td>0.079199</td>\n",
       "    </tr>\n",
       "  </tbody>\n",
       "</table>\n",
       "<p>2331008 rows × 9 columns</p>\n",
       "</div>"
      ],
      "text/plain": [
       "        target_cell       sm_name      gene  training  NK cells exp  \\\n",
       "0           B cells  Clotrimazole      A1BG     False      0.104720   \n",
       "1           B cells  Clotrimazole  A1BG-AS1     False     -0.077524   \n",
       "2           B cells  Clotrimazole       A2M     False     -1.625596   \n",
       "3           B cells  Clotrimazole   A2M-AS1     False     -0.144545   \n",
       "4           B cells  Clotrimazole     A2MP1     False      0.143555   \n",
       "...             ...           ...       ...       ...           ...   \n",
       "2331003     B cells     Riociguat      ZXDB     False      1.028394   \n",
       "2331004     B cells     Riociguat      ZXDC     False      0.034144   \n",
       "2331005     B cells     Riociguat    ZYG11B     False     -0.231642   \n",
       "2331006     B cells     Riociguat       ZYX     False      1.023994   \n",
       "2331007     B cells     Riociguat     ZZEF1     False     -0.064760   \n",
       "\n",
       "         T cells CD4+ exp  T cells CD8+ exp  T regulatory cells exp  \\\n",
       "0                0.915953         -0.387721                0.232893   \n",
       "1               -0.884380         -0.305378                0.129029   \n",
       "2                0.371834          0.567777                0.336897   \n",
       "3               -0.081677          0.303895                0.486946   \n",
       "4               -0.498266         -0.022653                0.767661   \n",
       "...                   ...               ...                     ...   \n",
       "2331003         -0.005004          0.024849               -0.120252   \n",
       "2331004          0.552810          0.012862               -0.064537   \n",
       "2331005         -0.209077         -0.029684               -0.603280   \n",
       "2331006          0.389751          0.005506               -0.098041   \n",
       "2331007         -0.337082         -1.733112               -0.750681   \n",
       "\n",
       "         target_averge_expression  \n",
       "0                        1.380890  \n",
       "1                        0.530585  \n",
       "2                        1.340812  \n",
       "3                        1.594307  \n",
       "4                        4.927551  \n",
       "...                           ...  \n",
       "2331003                  0.581303  \n",
       "2331004                  0.637408  \n",
       "2331005                  0.517737  \n",
       "2331006                 -0.207092  \n",
       "2331007                  0.079199  \n",
       "\n",
       "[2331008 rows x 9 columns]"
      ]
     },
     "execution_count": 63,
     "metadata": {},
     "output_type": "execute_result"
    }
   ],
   "source": [
    "test_transform_de_train_b"
   ]
  },
  {
   "cell_type": "markdown",
   "metadata": {},
   "source": [
    "### Concat response"
   ]
  },
  {
   "cell_type": "code",
   "execution_count": 64,
   "metadata": {},
   "outputs": [],
   "source": [
    "y_full_testing_pred = list(y_full_testing_pred_b) + list(y_full_testing_pred_m)"
   ]
  },
  {
   "cell_type": "markdown",
   "metadata": {},
   "source": [
    "## Transform and submit"
   ]
  },
  {
   "cell_type": "code",
   "execution_count": 65,
   "metadata": {},
   "outputs": [
    {
     "data": {
      "text/plain": [
       "count    4.643805e+06\n",
       "mean     2.953019e-01\n",
       "std      8.491516e-01\n",
       "min     -1.303315e+01\n",
       "25%      3.975647e-02\n",
       "50%      1.288916e-01\n",
       "75%      2.904235e-01\n",
       "max      3.387086e+01\n",
       "Name: level, dtype: float64"
      ]
     },
     "execution_count": 65,
     "metadata": {},
     "output_type": "execute_result"
    }
   ],
   "source": [
    "combine_test = test_transform_de_train.iloc[:, :3].copy()\n",
    "combine_test.columns = [\"cell_type\", \"sm_name\", \"gene\"]\n",
    "combine_test[\"level\"] = y_full_testing_pred\n",
    "combine_test.level.describe()"
   ]
  },
  {
   "cell_type": "code",
   "execution_count": 66,
   "metadata": {},
   "outputs": [],
   "source": [
    "sort_combine_test = combine_test.sort_values(by=[\"cell_type\", \"sm_name\"])"
   ]
  },
  {
   "cell_type": "code",
   "execution_count": 67,
   "metadata": {},
   "outputs": [
    {
     "data": {
      "text/plain": [
       "array([ True,  True,  True,  True,  True,  True,  True,  True,  True,\n",
       "        True,  True,  True,  True,  True,  True,  True,  True,  True,\n",
       "        True,  True,  True,  True,  True,  True,  True,  True,  True,\n",
       "        True,  True,  True,  True,  True,  True,  True,  True,  True,\n",
       "        True,  True,  True,  True,  True,  True,  True,  True,  True,\n",
       "        True,  True,  True,  True,  True,  True,  True,  True,  True,\n",
       "        True,  True,  True,  True,  True,  True,  True,  True,  True,\n",
       "        True,  True,  True,  True,  True,  True,  True,  True,  True,\n",
       "        True,  True,  True,  True,  True,  True,  True,  True,  True,\n",
       "        True,  True,  True,  True,  True,  True,  True,  True,  True,\n",
       "        True,  True,  True,  True,  True,  True,  True,  True,  True,\n",
       "        True,  True,  True,  True,  True,  True,  True,  True,  True,\n",
       "        True,  True,  True,  True,  True,  True,  True,  True,  True,\n",
       "        True,  True,  True,  True,  True,  True,  True,  True,  True,\n",
       "        True,  True,  True])"
      ]
     },
     "execution_count": 67,
     "metadata": {},
     "output_type": "execute_result"
    }
   ],
   "source": [
    "sort_combine_test.sm_name.unique() == id_map.sm_name.unique()"
   ]
  },
  {
   "cell_type": "code",
   "execution_count": 68,
   "metadata": {},
   "outputs": [],
   "source": [
    "first_line = \"id\" + \",\" + \",\".join(all_gene)"
   ]
  },
  {
   "cell_type": "code",
   "execution_count": 69,
   "metadata": {},
   "outputs": [
    {
     "name": "stdout",
     "output_type": "stream",
     "text": [
      "128\n",
      "127\n",
      "18211\n"
     ]
    }
   ],
   "source": [
    "print(len(bcell_sm_name_test))\n",
    "print(len(myeloid_sm_name_test))\n",
    "print(len(all_gene))"
   ]
  },
  {
   "cell_type": "code",
   "execution_count": 70,
   "metadata": {},
   "outputs": [],
   "source": [
    "otherline = []\n",
    "writeout_expression = list(sort_combine_test[\"level\"])\n",
    "for i in range(255):\n",
    "    otherline.append(\n",
    "        str(i)\n",
    "        + \",\"\n",
    "        + \",\".join(\n",
    "            map(str, writeout_expression[i * len(all_gene) : (i + 1) * len(all_gene)])\n",
    "        )\n",
    "    )"
   ]
  },
  {
   "cell_type": "code",
   "execution_count": 71,
   "metadata": {},
   "outputs": [],
   "source": [
    "with open(\"votem1_3m2_3_pos.csv\", \"w\") as fd:\n",
    "    fd.writelines(first_line + \"\\n\")\n",
    "    for line in otherline:\n",
    "        fd.writelines(line + \"\\n\")"
   ]
  },
  {
   "cell_type": "code",
   "execution_count": null,
   "metadata": {},
   "outputs": [],
   "source": []
  }
 ],
 "metadata": {
  "kernelspec": {
   "display_name": "Python 3 (ipykernel)",
   "language": "python",
   "name": "python3"
  },
  "language_info": {
   "codemirror_mode": {
    "name": "ipython",
    "version": 3
   },
   "file_extension": ".py",
   "mimetype": "text/x-python",
   "name": "python",
   "nbconvert_exporter": "python",
   "pygments_lexer": "ipython3",
   "version": "3.9.7"
  }
 },
 "nbformat": 4,
 "nbformat_minor": 4
}
